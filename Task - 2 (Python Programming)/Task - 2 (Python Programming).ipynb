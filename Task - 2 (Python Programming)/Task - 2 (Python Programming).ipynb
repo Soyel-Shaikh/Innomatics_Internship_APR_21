{
 "cells": [
  {
   "cell_type": "code",
   "execution_count": 1,
   "metadata": {},
   "outputs": [
    {
     "name": "stdout",
     "output_type": "stream",
     "text": [
      "2\n",
      "2\n",
      "2\n",
      "2\n",
      "[[0, 0, 0], [0, 0, 1], [0, 1, 0], [0, 1, 2], [0, 2, 1], [0, 2, 2], [1, 0, 0], [1, 0, 2], [1, 1, 1], [1, 1, 2], [1, 2, 0], [1, 2, 1], [1, 2, 2], [2, 0, 1], [2, 0, 2], [2, 1, 0], [2, 1, 1], [2, 1, 2], [2, 2, 0], [2, 2, 1], [2, 2, 2]]\n"
     ]
    }
   ],
   "source": [
    "# Question 1\n",
    "\n",
    "if __name__ == '__main__':\n",
    "    x = int(input())\n",
    "    y = int(input())\n",
    "    z = int(input())\n",
    "    n = int(input())\n",
    "    ans = [[i, j, k] for i in range(x + 1) for j in range(y + 1) for k in range(z + 1)   if i + j + k != n]\n",
    "print (ans)"
   ]
  },
  {
   "cell_type": "code",
   "execution_count": 3,
   "metadata": {},
   "outputs": [
    {
     "name": "stdout",
     "output_type": "stream",
     "text": [
      "5\n",
      "2 3 6 1 5\n",
      "5\n"
     ]
    }
   ],
   "source": [
    "# Question 2\n",
    "\n",
    "if __name__ == '__main__':\n",
    "    n = int(input())\n",
    "    arr = map(int, input().split())\n",
    "    print(sorted(list(set(arr)))[-2])"
   ]
  },
  {
   "cell_type": "code",
   "execution_count": 4,
   "metadata": {},
   "outputs": [
    {
     "name": "stdout",
     "output_type": "stream",
     "text": [
      "5\n",
      "Harry\n",
      "37.21\n",
      "Berry\n",
      "37.21\n",
      "Tina\n",
      "37.2\n",
      "Akriti\n",
      "41\n",
      "Harsh\n",
      "39\n",
      "Berry\n",
      "Harry\n"
     ]
    }
   ],
   "source": [
    "# Question 3\n",
    "\n",
    "if __name__ == '__main__':\n",
    "    n=int(input())\n",
    "arr=[[input(),float(input())] for _ in range(0,n)]\n",
    "arr.sort(key=lambda x: (x[1],x[0]))\n",
    "names = [i[0] for i in arr]\n",
    "marks = [i[1] for i in arr]\n",
    "min_val=min(marks)\n",
    "while marks[0]==min_val:\n",
    "    marks.remove(marks[0])\n",
    "    names.remove(names[0])    \n",
    "for x in range(0,len(marks)):\n",
    "    if marks[x]==min(marks):\n",
    "        print(names[x])"
   ]
  },
  {
   "cell_type": "code",
   "execution_count": 5,
   "metadata": {},
   "outputs": [
    {
     "name": "stdout",
     "output_type": "stream",
     "text": [
      "2\n",
      "Harsh 25 26.5 28\n",
      "Anurag 26 28 30\n",
      "Harsh\n",
      "26.50\n"
     ]
    }
   ],
   "source": [
    "# Question 4\n",
    "\n",
    "if __name__ == '__main__':\n",
    "    n = int(input())\n",
    "    student_marks = {}\n",
    "    sonuc = 0\n",
    "    average = float()\n",
    "    for _ in range(n):\n",
    "        name, *line = input().split()\n",
    "        scores = list(map(float, line))\n",
    "        student_marks[name] = scores\n",
    "    query_name = input()\n",
    "    for i in student_marks[query_name]:\n",
    "        sonuc += i\n",
    "    average = sonuc / len(student_marks[query_name])\n",
    "    print(\"%.2f\" %average)"
   ]
  },
  {
   "cell_type": "code",
   "execution_count": 11,
   "metadata": {},
   "outputs": [
    {
     "name": "stdout",
     "output_type": "stream",
     "text": [
      "12\n",
      "insert 0 5\n",
      "insert 1 10\n",
      "insert 0 6\n",
      "print\n",
      "[6, 5, 10]\n",
      "remove 6\n",
      "append 9\n",
      "append 1\n",
      "sort\n",
      "print\n",
      "[1, 5, 9, 10]\n",
      "pop\n",
      "reverse\n",
      "print\n",
      "[9, 5, 1]\n"
     ]
    }
   ],
   "source": [
    "# Question 5\n",
    "\n",
    "if __name__ == '__main__':\n",
    "    n = int(input())\n",
    "    list = []\n",
    "\n",
    "    for i in range(n):\n",
    "        a = input().split()\n",
    "        if len(a) == 3:\n",
    "            eval(\"list.\" + a[0] + \"(\" + a[1] + \",\" + a[2] + \")\")\n",
    "        elif len(a) == 2:\n",
    "            eval(\"list.\" + a[0] + \"(\" + a[1] + \")\")\n",
    "        elif a[0] == \"print\":\n",
    "            print (list)\n",
    "        else:\n",
    "            eval(\"list.\" + a[0] + \"()\")"
   ]
  },
  {
   "cell_type": "code",
   "execution_count": 12,
   "metadata": {},
   "outputs": [
    {
     "name": "stdout",
     "output_type": "stream",
     "text": [
      "2\n",
      "1 2\n",
      "3713081631934410656\n"
     ]
    }
   ],
   "source": [
    "# Question 6\n",
    "\n",
    "if __name__ == '__main__':\n",
    "    tuple_len = int(input())\n",
    "    a = tuple(map(int, input().split(' ')))\n",
    "    print (hash(a))"
   ]
  },
  {
   "cell_type": "code",
   "execution_count": 14,
   "metadata": {},
   "outputs": [
    {
     "name": "stdout",
     "output_type": "stream",
     "text": [
      "10\n",
      "161 182 161 154 176 170 167 171 170 174\n",
      "169.375\n"
     ]
    }
   ],
   "source": [
    "# Question 7\n",
    "\n",
    "def average(array):\n",
    "    average=sum(set(arr))/len(set(arr))\n",
    "    return average\n",
    "\n",
    "\n",
    "if __name__ == '__main__':\n",
    "    n = int(input())\n",
    "    arr = set(map(int, input().split()))\n",
    "    result = average(arr)\n",
    "    print(result)"
   ]
  },
  {
   "cell_type": "code",
   "execution_count": 15,
   "metadata": {},
   "outputs": [
    {
     "name": "stdout",
     "output_type": "stream",
     "text": [
      "3 2\n",
      "1 5 3\n",
      "31\n",
      "57\n",
      "0\n"
     ]
    }
   ],
   "source": [
    "# Question 8\n",
    "\n",
    "n_m = input().split()\n",
    "n_m = map(int, n_m)\n",
    "n = map(int, input().split())\n",
    "A = set(map(int, input().split()))\n",
    "B = set(map(int, input().split()))\n",
    "\n",
    "counter = 0\n",
    "for i in n:\n",
    "    if i in A:\n",
    "        counter += 1\n",
    "    elif i in B:\n",
    "        counter -= 1\n",
    "\n",
    "print (counter)"
   ]
  },
  {
   "cell_type": "code",
   "execution_count": 19,
   "metadata": {},
   "outputs": [
    {
     "name": "stdout",
     "output_type": "stream",
     "text": [
      "4\n",
      "2 4 5 9\n",
      "4\n",
      "2 4 11 12\n",
      "5\n",
      "9\n",
      "11\n",
      "12\n"
     ]
    }
   ],
   "source": [
    "# Question 9\n",
    "\n",
    "int(input())\n",
    "N = input().split()\n",
    "Nint = set(set(map(int, N)))\n",
    "int(input())\n",
    "M = input().split()\n",
    "Mint = set(set(map(int, M)))\n",
    "res = []\n",
    "for i in set(Nint.difference(Mint)):\n",
    "    res.append(i)\n",
    "for j in set(Mint.difference(Nint)):\n",
    "    res.append(j)\n",
    "for k in sorted(res):\n",
    "    print (k)"
   ]
  },
  {
   "cell_type": "code",
   "execution_count": 20,
   "metadata": {},
   "outputs": [
    {
     "name": "stdout",
     "output_type": "stream",
     "text": [
      "7\n",
      "UK\n",
      "China\n",
      "USA\n",
      "France\n",
      "New Zealand\n",
      "UK\n",
      "France\n",
      "5\n"
     ]
    }
   ],
   "source": [
    "# Question 10\n",
    "\n",
    "N = int(input())\n",
    "s = set(input() for i in range(N))\n",
    "    \n",
    "print (len(s))"
   ]
  },
  {
   "cell_type": "code",
   "execution_count": 21,
   "metadata": {},
   "outputs": [
    {
     "name": "stdout",
     "output_type": "stream",
     "text": [
      "9\n",
      "1 2 3 4 5 6 7 8 9\n",
      "10\n",
      "pop\n",
      "remove 9\n",
      "discard 9\n",
      "discard 8\n",
      "remove 7\n",
      "pop\n",
      "discard 6\n",
      "remove 5\n",
      "pop\n",
      "discard 5\n",
      "4\n"
     ]
    }
   ],
   "source": [
    "# Question 11\n",
    "\n",
    "n = int(input())\n",
    "s = set(map(int, input().split()))\n",
    "a = int(input())\n",
    "\n",
    "for i in range(a):\n",
    "    k = []\n",
    "    k = input().split()\n",
    "    if k[0] == 'pop':\n",
    "        s.pop()\n",
    "    elif k[0] == 'remove':\n",
    "        s.remove(int(k[1]))\n",
    "    elif k[0] == 'discard':\n",
    "        s.discard(int(k[1]))\n",
    "    else:\n",
    "        print ('not a command')\n",
    "\n",
    "print (sum(s))"
   ]
  },
  {
   "cell_type": "code",
   "execution_count": 22,
   "metadata": {},
   "outputs": [
    {
     "name": "stdout",
     "output_type": "stream",
     "text": [
      "9\n",
      "1 2 3 4 5 6 7 8 9\n",
      "9\n",
      "10 1 2 3 11 21 55 6 8\n",
      "13\n"
     ]
    }
   ],
   "source": [
    "# Question 12\n",
    "\n",
    "e = input()\n",
    "el = set(map(int,input().split()))\n",
    "f = input()\n",
    "fl = set(map(int,input().split()))\n",
    "\n",
    "u = el.union(fl)\n",
    "\n",
    "\n",
    "print (len(u))"
   ]
  },
  {
   "cell_type": "code",
   "execution_count": 23,
   "metadata": {},
   "outputs": [
    {
     "name": "stdout",
     "output_type": "stream",
     "text": [
      "9\n",
      "1 2 3 4 5 6 7 8 9\n",
      "9\n",
      "10 1 2 3 11 21 55 6 8\n",
      "5\n"
     ]
    }
   ],
   "source": [
    "# Question 13\n",
    "\n",
    "E = int(input())\n",
    "English = set(input().split())\n",
    "\n",
    "F = int(input())\n",
    "French = set(input().split())\n",
    "\n",
    "print (len(English & French))"
   ]
  },
  {
   "cell_type": "code",
   "execution_count": 24,
   "metadata": {},
   "outputs": [
    {
     "name": "stdout",
     "output_type": "stream",
     "text": [
      "9\n",
      "1 2 3 4 5 6 7 8 9\n",
      "9\n",
      "10 1 2 3 11 21 55 6 8\n",
      "4\n"
     ]
    }
   ],
   "source": [
    "# Question 14\n",
    "\n",
    "eng_num = int(input())\n",
    "eng_set = set(map(int, input().split()))\n",
    "fren_num = int(input())\n",
    "fren_set = set(map(int, input().split()))\n",
    "\n",
    "print (len(eng_set.difference(fren_set)))"
   ]
  },
  {
   "cell_type": "code",
   "execution_count": 26,
   "metadata": {},
   "outputs": [
    {
     "name": "stdout",
     "output_type": "stream",
     "text": [
      "9\n",
      "1 2 3 4 5 6 7 8 9\n",
      "9\n",
      "10 1 2 3 11 21 55 6 8\n",
      "8\n"
     ]
    }
   ],
   "source": [
    "# Question 15\n",
    "\n",
    "a = int(input())\n",
    "b = input().split()\n",
    "b = set(map(int, b))\n",
    "c = int(input())\n",
    "d = input().split()\n",
    "d = set(map(int, d))\n",
    "\n",
    "print (len(set(b).symmetric_difference(set(d))))"
   ]
  },
  {
   "cell_type": "code",
   "execution_count": 28,
   "metadata": {},
   "outputs": [
    {
     "name": "stdout",
     "output_type": "stream",
     "text": [
      "16\n",
      "1 2 3 4 5 6 7 8 9 10 11 12 13 14 24 52\n",
      "4\n",
      "intersection_update 10\n",
      "2 3 5 6 8 9 1 4 7 11\n",
      "update 2\n",
      "55 66\n",
      "symmetric_difference_update 2\n",
      "62 58\n",
      "difference_update 7\n",
      "11 22 35 55 58 62 66\n",
      "45\n"
     ]
    }
   ],
   "source": [
    "# Question 16\n",
    "\n",
    "LA = int(input())\n",
    "A = set(map(int,input().split()))\n",
    "\n",
    "N = int(input())\n",
    "\n",
    "for i in range(N):\n",
    "    k = input().split()\n",
    "    ktemp = set(map(int,input().split()))\n",
    "    if k[0] == 'update':\n",
    "        A.update(ktemp)\n",
    "    elif k[0] == 'intersection_update':\n",
    "        A.intersection_update(ktemp)\n",
    "    elif k[0] == 'difference_update':\n",
    "        A.difference_update(ktemp)\n",
    "    elif k[0] == 'symmetric_difference_update':\n",
    "        A.symmetric_difference_update(ktemp)\n",
    "    else:\n",
    "        print ('Incorrect parameters')\n",
    "\n",
    "print (sum(A))"
   ]
  },
  {
   "cell_type": "code",
   "execution_count": 29,
   "metadata": {},
   "outputs": [
    {
     "name": "stdout",
     "output_type": "stream",
     "text": [
      "5\n",
      "1 2 3 6 5 4 4 2 5 3 6 1 6 5 3 2 4 1 2 5 1 4 3 6 8 4 3 1 5 6 2\n",
      "8\n"
     ]
    }
   ],
   "source": [
    "# Question 17\n",
    "\n",
    "from collections import Counter\n",
    "\n",
    "n = input()\n",
    "b = input().split()\n",
    "\n",
    "k = Counter(b)\n",
    "\n",
    "d = dict(k)\n",
    "\n",
    "print (min(d, key=lambda k: d[k]))"
   ]
  },
  {
   "cell_type": "code",
   "execution_count": 30,
   "metadata": {},
   "outputs": [
    {
     "name": "stdout",
     "output_type": "stream",
     "text": [
      "3\n",
      "5\n",
      "1 2 3 5 6\n",
      "9\n",
      "9 8 5 6 3 2 1 4 7\n",
      "True\n",
      "1\n",
      "2\n",
      "5\n",
      "3 6 5 4 1\n",
      "False\n",
      "7\n",
      "1 2 3 5 6 8 9\n",
      "3\n",
      "9 8 2\n",
      "False\n"
     ]
    }
   ],
   "source": [
    "# Question 18\n",
    "\n",
    "for i in range(int(input())):   \n",
    "    a = int(input()); A = set(input().split());b = int(input()); B = set(input().split())\n",
    "    if A.issubset(B) : print ('True')\n",
    "    else : print ('False')"
   ]
  },
  {
   "cell_type": "code",
   "execution_count": 31,
   "metadata": {},
   "outputs": [
    {
     "name": "stdout",
     "output_type": "stream",
     "text": [
      "1 2 3 4 5 6 7 8 9 10 11 12 23 45 84 78\n",
      "2\n",
      "1 2 3 4 5\n",
      "100 11 12\n",
      "False\n"
     ]
    }
   ],
   "source": [
    "# Question 19\n",
    "\n",
    "a = set(map(str, input().split(' ')))\n",
    "is_strict_superset = []\n",
    "for i in range(int(input())):\n",
    "     is_strict_superset.append(a.issuperset(set(map(str, input().split(' ')))))\n",
    "print(all(is_strict_superset))"
   ]
  },
  {
   "cell_type": "code",
   "execution_count": null,
   "metadata": {},
   "outputs": [],
   "source": []
  }
 ],
 "metadata": {
  "kernelspec": {
   "display_name": "Python 3",
   "language": "python",
   "name": "python3"
  },
  "language_info": {
   "codemirror_mode": {
    "name": "ipython",
    "version": 3
   },
   "file_extension": ".py",
   "mimetype": "text/x-python",
   "name": "python",
   "nbconvert_exporter": "python",
   "pygments_lexer": "ipython3",
   "version": "3.7.4"
  }
 },
 "nbformat": 4,
 "nbformat_minor": 2
}
