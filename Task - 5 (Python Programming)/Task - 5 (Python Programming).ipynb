{
 "cells": [
  {
   "cell_type": "code",
   "execution_count": 1,
   "metadata": {},
   "outputs": [
    {
     "name": "stdout",
     "output_type": "stream",
     "text": [
      "4\n",
      "4.0O0\n",
      "False\n",
      "-1.00\n",
      "True\n",
      "+4.54\n",
      "True\n",
      "SomeRandomStuff\n",
      "False\n"
     ]
    }
   ],
   "source": [
    "# Question 1 Detect Floating Point Number\n",
    "\n",
    "import re\n",
    "for _ in range(int(input())):\n",
    "    print(bool(re.match(r'^[-+]?[0-9]*\\.[0-9]+$', input())))"
   ]
  },
  {
   "cell_type": "code",
   "execution_count": 2,
   "metadata": {},
   "outputs": [
    {
     "name": "stdout",
     "output_type": "stream",
     "text": [
      "100,000,000.000\n",
      "100\n",
      "000\n",
      "000\n",
      "000\n"
     ]
    }
   ],
   "source": [
    "# Question 2 Re.split()\n",
    "\n",
    "regex_pattern = r\"[.,]+\"\t# Do not delete 'r'.\n",
    "\n",
    "import re\n",
    "print(\"\\n\".join(re.split(regex_pattern, input())))"
   ]
  },
  {
   "cell_type": "code",
   "execution_count": 3,
   "metadata": {},
   "outputs": [
    {
     "name": "stdout",
     "output_type": "stream",
     "text": [
      "..12345678910111213141516171820212223\n",
      "1\n"
     ]
    }
   ],
   "source": [
    "#Question 3 Group(), Groups() & Groupdict()\n",
    "\n",
    "import re\n",
    "m = re.search(r'([A-Za-z0-9])\\1+',input())\n",
    "if m:\n",
    "    print(m.group(1))\n",
    "else:\n",
    "    print(-1)"
   ]
  },
  {
   "cell_type": "code",
   "execution_count": 4,
   "metadata": {},
   "outputs": [
    {
     "name": "stdout",
     "output_type": "stream",
     "text": [
      "rabcdeefgyYhFjkIoomnpOeorteeeeet\n",
      "ee\n",
      "Ioo\n",
      "Oeo\n",
      "eeeee\n"
     ]
    }
   ],
   "source": [
    "# Question 4 Re.findall() & Re.finditer()\n",
    "\n",
    "import re\n",
    "\n",
    "k = re.findall(r'(?<=[^aeiouAEIOU ])[aeiouAEIOU]{2,}(?=[^aeiouAEIOU ])',input())\n",
    "\n",
    "if k:\n",
    "    for i in k:\n",
    "        print(i)\n",
    "else:\n",
    "    print(-1)"
   ]
  },
  {
   "cell_type": "code",
   "execution_count": 5,
   "metadata": {},
   "outputs": [
    {
     "name": "stdout",
     "output_type": "stream",
     "text": [
      "aaadaa\n",
      "aa\n",
      "(0, 1)\n",
      "(1, 2)\n",
      "(4, 5)\n"
     ]
    }
   ],
   "source": [
    "# Question 5 Re.start() & Re.end()\n",
    "\n",
    "import re\n",
    "\n",
    "S, k = input(), input()\n",
    "matches = re.finditer(r'(?=(' + k + '))', S)\n",
    "\n",
    "anymatch = False\n",
    "for match in matches:\n",
    "    anymatch = True\n",
    "    print((match.start(1), match.end(1) - 1))\n",
    "\n",
    "if anymatch == False:\n",
    "    print((-1, -1))"
   ]
  },
  {
   "cell_type": "code",
   "execution_count": 6,
   "metadata": {},
   "outputs": [
    {
     "name": "stdout",
     "output_type": "stream",
     "text": [
      "11\n",
      "a=1,\n",
      "b=input();\n",
      "if a + b > 0 && a - b < 0:\n",
      "start()\n",
      "elif a*b > 10 || a/b < 1:\n",
      "stop()\n",
      "print set(list(a)) | set(list(b)) \n",
      "#Note do not change &&& or ||| or & or |\n",
      "#Only change those '&&' which have space on both sides.\n",
      "#Only change those '|| which have space on both sides.\n",
      "\n",
      "a=1,\n",
      "b=input();\n",
      "if a + b > 0 and a - b < 0:\n",
      "start()\n",
      "elif a*b > 10 or a/b < 1:\n",
      "stop()\n",
      "print set(list(a)) | set(list(b)) \n",
      "#Note do not change &&& or ||| or & or |\n",
      "#Only change those '&&' which have space on both sides.\n",
      "#Only change those '|| which have space on both sides.\n",
      "\n"
     ]
    }
   ],
   "source": [
    "# Question 6 Regex Substitution\n",
    "\n",
    "import re\n",
    "T = []\n",
    "def change(match):\n",
    "    if match.group(0) == '&&':\n",
    "        return 'and'\n",
    "    elif  match.group(0) == '||':\n",
    "        return 'or'\n",
    "    \n",
    "    \n",
    "N = int(input())\n",
    "for i in range(N):\n",
    "    T.append(input())\n",
    "    \n",
    "t = '\\n'.join(T)\n",
    "\n",
    "print(re.sub(r\"(?<= )(&&|\\|\\|)(?= )\", change, t))"
   ]
  },
  {
   "cell_type": "code",
   "execution_count": 7,
   "metadata": {},
   "outputs": [
    {
     "name": "stdout",
     "output_type": "stream",
     "text": [
      "CDXXI\n",
      "True\n"
     ]
    }
   ],
   "source": [
    "#Question 7 Validating Roman Numerals\n",
    "\n",
    "regex_pattern = r\"^(?=[MDCLXVI])M{0,3}(CM|CD|D?C{0,3})(XC|XL|L?X{0,3})(IX|IV|V?I{0,3})$\"\t# Do not delete 'r'.\n",
    "\n",
    "import re\n",
    "print(str(bool(re.match(regex_pattern, input()))))"
   ]
  },
  {
   "cell_type": "code",
   "execution_count": 8,
   "metadata": {},
   "outputs": [
    {
     "name": "stdout",
     "output_type": "stream",
     "text": [
      "2\n",
      "9587456281\n",
      "YES\n",
      "1252478965\n",
      "NO\n"
     ]
    }
   ],
   "source": [
    "#Question 8 Validating phone numbers\n",
    "\n",
    "import re\n",
    "\n",
    "N = int(input())\n",
    "\n",
    "for i in range(N):\n",
    "    number = input()\n",
    "    if(len(number)==10 and number.isdigit()):\n",
    "        output = re.findall(r\"^[789]\\d{9}$\",number)\n",
    "        if(len(output)==1):\n",
    "            print(\"YES\")\n",
    "        else:\n",
    "            print(\"NO\")\n",
    "    else:\n",
    "        print(\"NO\")"
   ]
  },
  {
   "cell_type": "code",
   "execution_count": 9,
   "metadata": {},
   "outputs": [
    {
     "name": "stdout",
     "output_type": "stream",
     "text": [
      "2\n",
      "DEXTER <dexter@hotmail.com>\n",
      "DEXTER <dexter@hotmail.com>\n",
      "VIRUS <virus!@variable.:p>\n"
     ]
    }
   ],
   "source": [
    "# Question 9 Validating and Parsing Email Addresses\n",
    "\n",
    "import re\n",
    "\n",
    "N = int(input())\n",
    "\n",
    "for i in range(N):\n",
    "    name, email = input().split()\n",
    "    pattern=\"<[a-z][a-zA-Z0-9\\-\\.\\_]+@[a-zA-Z]+\\.[a-zA-Z]{1,3}>\"\n",
    "    if bool(re.match(pattern, email)):\n",
    "        print(name,email)"
   ]
  },
  {
   "cell_type": "code",
   "execution_count": 10,
   "metadata": {},
   "outputs": [
    {
     "name": "stdout",
     "output_type": "stream",
     "text": [
      "11\n",
      "#BED\n",
      "{\n",
      "color: #FfFdF8; background-color:#aef;     font-size: 123px;     background: -webkit-linear-gradient(top, #f9f9f9, #fff); } #Cab {     background-color: #ABC;     border: 2px dashed #fff; }   \n",
      "#FfFdF8\n",
      "#aef\n",
      "#f9f9f9\n",
      "#fff\n",
      "#ABC\n",
      "#fff\n",
      "\n",
      "\n",
      "\n",
      "\n",
      "\n",
      "\n",
      "\n",
      "\n"
     ]
    }
   ],
   "source": [
    "# Question 10 Hex Color Code\n",
    "\n",
    "\n",
    "import re\n",
    "\n",
    "n = int(input().strip())\n",
    "inside = False\n",
    "for _ in range(n):\n",
    "    line = input()\n",
    "    \n",
    "    for el in line.split(' '):\n",
    "        if el == \"{\":\n",
    "            inside = True\n",
    "            continue\n",
    "        elif el == \"}\":\n",
    "            inside = False\n",
    "            continue\n",
    "        elif inside:\n",
    "            found = re.search(r'\\#[0-9a-fA-F]{3,6}', el)\n",
    "            if found:\n",
    "                print(found.group(0))"
   ]
  },
  {
   "cell_type": "code",
   "execution_count": 11,
   "metadata": {},
   "outputs": [
    {
     "name": "stdout",
     "output_type": "stream",
     "text": [
      "2\n",
      "<html><head><title>HTML Parser - I</title></head>\n",
      "<body data-modal-target class='1'><h1>HackerRank</h1><br /></body></html>\n",
      "Start : html\n",
      "Start : head\n",
      "Start : title\n",
      "End   : title\n",
      "End   : head\n",
      "Start : body\n",
      "-> data-modal-target > None\n",
      "-> class > 1\n",
      "Start : h1\n",
      "End   : h1\n",
      "Empty : br\n",
      "End   : body\n",
      "End   : html\n"
     ]
    }
   ],
   "source": [
    "# Question 11 HTML Parser - Part 1\n",
    "\n",
    "from html.parser import HTMLParser\n",
    "\n",
    "class MyHTMLParser(HTMLParser):\n",
    "    def handle_starttag(self, tag, attrs):\n",
    "        print ('Start :',tag)\n",
    "        for attr in attrs:\n",
    "                print ('->',' > '.join(map(str,attr)))\n",
    "    def handle_endtag(self, tag):\n",
    "        print ('End   :',tag)\n",
    "    def handle_startendtag(self, tag, attrs):\n",
    "        print ('Empty :',tag)\n",
    "        for attr in attrs:\n",
    "                print ('->',' > '.join(map(str,attr)))\n",
    "\n",
    "html = \"\"\n",
    "for i in range(int(input())):\n",
    "    html += input()\n",
    "                    \n",
    "                \n",
    "parser = MyHTMLParser()\n",
    "parser.feed(html)\n",
    "parser.close()"
   ]
  },
  {
   "cell_type": "code",
   "execution_count": 12,
   "metadata": {},
   "outputs": [
    {
     "name": "stdout",
     "output_type": "stream",
     "text": [
      "4\n",
      "<!--[if IE 9]>IE9-specific content\n",
      "<![endif]-->\n",
      "<div> Welcome to HackerRank</div>\n",
      "<!--[if IE 9]>IE9-specific content<![endif]-->\n",
      ">>> Multi-line Comment\n",
      "[if IE 9]>IE9-specific content\n",
      "<![endif]\n",
      ">>> Data\n",
      " Welcome to HackerRank\n",
      ">>> Single-line Comment\n",
      "[if IE 9]>IE9-specific content<![endif]\n"
     ]
    }
   ],
   "source": [
    "# Question 12 HTML Parser - Part 2\n",
    "\n",
    "from html.parser import HTMLParser\n",
    "\n",
    "class MyHTMLParser(HTMLParser):\n",
    "    def handle_comment(self, data):\n",
    "        if '\\n' not in data:\n",
    "            print('>>> Single-line Comment')\n",
    "            print(data)\n",
    "        elif '\\n' in data:\n",
    "            print('>>> Multi-line Comment')\n",
    "            print(data)\n",
    "    def handle_data(self, data):\n",
    "        if data != '\\n':\n",
    "            print('>>> Data')\n",
    "            print(data)\n",
    "  \n",
    "html = \"\"       \n",
    "for i in range(int(input())):\n",
    "    html += input().rstrip()\n",
    "    html += '\\n'\n",
    "    \n",
    "parser = MyHTMLParser()\n",
    "parser.feed(html)\n",
    "parser.close()"
   ]
  },
  {
   "cell_type": "code",
   "execution_count": 13,
   "metadata": {},
   "outputs": [
    {
     "name": "stdout",
     "output_type": "stream",
     "text": [
      "9\n",
      "<head>\n",
      "head\n",
      "<title>HTML</title>\n",
      "title\n",
      "</head>\n",
      "<object type=\"application/x-flash\" \n",
      "data=\"your-file.swf\" \n",
      " width=\"0\" height=\"0\">\n",
      "object\n",
      "-> type > application/x-flash\n",
      "-> data > your-file.swf\n",
      "-> width > 0\n",
      "-> height > 0\n",
      "  <!-- <param name=\"movie\" value=\"your-file.swf\" /> -->\n",
      "<param name=\"quality\" value=\"high\"/>\n",
      "param\n",
      "-> name > quality\n",
      "-> value > high\n",
      "</object>\n"
     ]
    }
   ],
   "source": [
    "# Question 13 Detect HTML Tags, Attributes and Attribute Values\n",
    "\n",
    "from __future__ import print_function\n",
    "import sys\n",
    "if sys.version_info[0]>=3:\n",
    "\tinput=input\n",
    "\tfrom html.parser import HTMLParser\n",
    "\n",
    "from html.parser import HTMLParser\n",
    "class MyHTMLParser(HTMLParser):\n",
    "\tdef handle_starttag(self, tag, attrs):\n",
    "\t\tprint(tag)\n",
    "\t\tfor e in attrs: print(\"-> \"+e[0]+\" > \"+str(e[1]))\n",
    "\tdef handle_endtag(self, tag):\n",
    "\t\t#print(\"End   : \"+tag)\n",
    "\t\tpass\n",
    "\tdef handle_startendtag(self, tag, attrs):\n",
    "\t\tprint(tag)\n",
    "\t\tfor e in attrs: print(\"-> \"+e[0]+\" > \"+str(e[1]))\n",
    "\n",
    "parser = MyHTMLParser()\n",
    "for _ in range(int(input())):\n",
    "\tparser.feed(input())"
   ]
  },
  {
   "cell_type": "code",
   "execution_count": 14,
   "metadata": {},
   "outputs": [
    {
     "name": "stdout",
     "output_type": "stream",
     "text": [
      "2\n",
      "B1CD102354\n",
      "Invalid\n",
      "B1CDEF2354\n",
      "Valid\n"
     ]
    }
   ],
   "source": [
    "# Question 14 Validating UID\n",
    "\n",
    "import re\n",
    "for i in range(int(input())):\n",
    "    N = input().strip()\n",
    "    if N.isalnum() and len(N) == 10:\n",
    "        if bool(re.search(r'(.*[A-Z]){2,}',N)) and bool(re.search(r'(.*[0-9]){3,}',N)):\n",
    "            if re.search(r'.*(.).*\\1+.*',N):\n",
    "                print ('Invalid')\n",
    "            else:\n",
    "                print ('Valid')  \n",
    "        else:\n",
    "            print ('Invalid')\n",
    "    else:\n",
    "        print ('Invalid')"
   ]
  },
  {
   "cell_type": "code",
   "execution_count": 15,
   "metadata": {},
   "outputs": [
    {
     "name": "stdout",
     "output_type": "stream",
     "text": [
      "6\n",
      "4123456789123456\n",
      "Valid\n",
      "5123-4567-8912-3456\n",
      "Valid\n",
      "61234-567-8912-3456\n",
      "Invalid\n",
      "4123356789123456\n",
      "Valid\n",
      "5133-3367-8912-3456\n",
      "Invalid\n",
      "5123 - 3567 - 8912 - 3456\n",
      "Invalid\n"
     ]
    }
   ],
   "source": [
    "# Question 15 Validating Credit Card Numbers\n",
    "\n",
    "import re\n",
    "for i in range(int(input())):\n",
    "    S = input().strip()\n",
    "    pre_match = re.search(r'^[456]\\d{3}(-?)\\d{4}\\1\\d{4}\\1\\d{4}$',S)\n",
    "    if pre_match:\n",
    "        processed_string = \"\".join(pre_match.group(0).split('-'))\n",
    "        final_match = re.search(r'(\\d)\\1{3,}',processed_string)\n",
    "        if final_match:\n",
    "            print('Invalid')\n",
    "        else :\n",
    "            print('Valid')\n",
    "    else:\n",
    "        print('Invalid')"
   ]
  },
  {
   "cell_type": "code",
   "execution_count": 16,
   "metadata": {},
   "outputs": [
    {
     "name": "stdout",
     "output_type": "stream",
     "text": [
      "110000\n",
      "False\n"
     ]
    }
   ],
   "source": [
    "# Question 16 Validating Postal Codes\n",
    "\n",
    "regex_integer_in_range = r\"^[1-9]\\d{5}$\"\t# Do not delete 'r'.\n",
    "regex_alternating_repetitive_digit_pair = r\"(\\d)(?=\\d\\1)\"\t# Do not delete 'r'.\n",
    "\n",
    "\n",
    "import re\n",
    "P = input()\n",
    "\n",
    "print (bool(re.match(regex_integer_in_range, P)) \n",
    "and len(re.findall(regex_alternating_repetitive_digit_pair, P)) < 2)"
   ]
  },
  {
   "cell_type": "code",
   "execution_count": 17,
   "metadata": {},
   "outputs": [
    {
     "name": "stdout",
     "output_type": "stream",
     "text": [
      "7 3\n",
      "Tsi\n",
      "h%x\n",
      "i #\n",
      "sM \n",
      "$a\n",
      "#t%\n",
      "ir!\n",
      "This is Matr\n"
     ]
    }
   ],
   "source": [
    "# Question 17 Matrix Script\n",
    "\n",
    "import math\n",
    "import os\n",
    "import random\n",
    "import re\n",
    "import sys\n",
    "\n",
    "first_multiple_input = input().rstrip().split()\n",
    "\n",
    "n = int(first_multiple_input[0])\n",
    "\n",
    "m = int(first_multiple_input[1])\n",
    "\n",
    "matrix = []\n",
    "\n",
    "for _ in range(n):\n",
    "    matrix_item = input()\n",
    "    matrix.append(matrix_item)\n",
    "      \n",
    "matrix = list(zip(*matrix))\n",
    "\n",
    "sample = str()\n",
    "\n",
    "for words in matrix:\n",
    "    for char in words:\n",
    "        sample += char\n",
    "       \n",
    "print(re.sub(r'(?<=\\w)([^\\w\\d]+)(?=\\w)', ' ', sample))\n"
   ]
  },
  {
   "cell_type": "code",
   "execution_count": null,
   "metadata": {},
   "outputs": [],
   "source": []
  }
 ],
 "metadata": {
  "kernelspec": {
   "display_name": "Python 3",
   "language": "python",
   "name": "python3"
  },
  "language_info": {
   "codemirror_mode": {
    "name": "ipython",
    "version": 3
   },
   "file_extension": ".py",
   "mimetype": "text/x-python",
   "name": "python",
   "nbconvert_exporter": "python",
   "pygments_lexer": "ipython3",
   "version": "3.7.4"
  }
 },
 "nbformat": 4,
 "nbformat_minor": 2
}
